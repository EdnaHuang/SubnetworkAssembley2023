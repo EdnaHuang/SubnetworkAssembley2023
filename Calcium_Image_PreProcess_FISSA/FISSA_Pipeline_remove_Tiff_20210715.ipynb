{
 "cells": [
  {
   "cell_type": "markdown",
   "metadata": {},
   "source": [
    "### Using FISSA with Suite2P, AFTER merging the .tif files in each folder.\n",
    "Suite2P is a popular toolbox for cell detection and signal extraction. \n",
    "\n",
    "Here we illustrate how one can use the ROIs and motion corrected videos generated detected by Suite2P, and use FISSA to extract and decontaminate the traces.\n",
    "\n",
    "For more information about the Suite2P toolbox see: \n",
    "https://www.biorxiv.org/content/10.1101/061507v2\n",
    "https://mouseland.github.io/suite2p/_build/html/index.html\n",
    "https://science.sciencemag.org/content/364/6437/eaav7893.full?ijkey=PHaXxFoO8kMGw&keytype=ref&siteid=sci\n"
   ]
  },
  {
   "cell_type": "markdown",
   "metadata": {},
   "source": [
    "#### Imports"
   ]
  },
  {
   "cell_type": "code",
   "execution_count": null,
   "metadata": {},
   "outputs": [],
   "source": [
    "import holoviews as hv\n",
    "%load_ext holoviews.ipython\n",
    "hv.extension('matplotlib')\n",
    "%matplotlib inline\n",
    "\n",
    "# file operations\n",
    "import glob\n",
    "from scipy.io import loadmat\n",
    "\n",
    "# FISSA\n",
    "import fissa\n",
    "\n",
    "# numpy\n",
    "import numpy as np\n",
    "\n",
    "# os / re / tqdm\n",
    "import os # directory tool\n",
    "import re # regular expressions\n",
    "import tqdm.notebook as tqdm # progress bar\n",
    "from PIL import Image # Read tiff\n",
    "\n",
    "import warnings # Stops annoying warning messages\n",
    "warnings.filterwarnings(\"ignore\", category=np.VisibleDeprecationWarning) \n",
    "\n",
    "import imagej\n",
    "ij = imagej.init('net.imagej:imagej:2.1.0', headless=False)"
   ]
  },
  {
   "cell_type": "markdown",
   "metadata": {},
   "source": [
    "Set the root path that contains folders you want to analyze"
   ]
  },
  {
   "cell_type": "code",
   "execution_count": null,
   "metadata": {},
   "outputs": [],
   "source": [
    "# change the folder location accordingly\n",
    "path = r'Y:\\Jui-Yen Huang\\Derived Files\\Data\\In vivo Calcium Imaging\\20220522_0601_jRGECO1a_C57-C6-2\\20220601_jRGECO1a_C57-C6-2_P21'"
   ]
  },
  {
   "cell_type": "markdown",
   "metadata": {},
   "source": [
    "First, define the ImageJ macros to be used by pyimagej to merge the tiffs and save them."
   ]
  },
  {
   "cell_type": "code",
   "execution_count": null,
   "metadata": {},
   "outputs": [],
   "source": [
    "openfiles = \"\"\"\n",
    "    #@ String input\n",
    "    setBatchMode(\"show\")\n",
    "    list = getFileList(input);\n",
    "    count = list.length;\n",
    "    for (i = 0; i < count; i++){\n",
    "        if (endsWith(list[i], \".tif\")) {\n",
    "            open(input + list[i]);\n",
    "    }\n",
    "    }   \n",
    "\"\"\"\n",
    "concat_and_save = \"\"\"\n",
    "#@ String input\n",
    "output= input + \"../../../concatenate/\";\n",
    "list = getFileList(input);\n",
    "count = list.length;\n",
    "command = \"open \";\n",
    "idx = 1;\n",
    "for (i = 0; i < count; i++) {\n",
    "    if (endsWith(list[i], \".tif\")) {\n",
    "        command = command + \"image\" + idx + \"=\" + list[i] + \" \";\n",
    "        idx = idx + 1;\n",
    "}\n",
    "}\n",
    "run(\"Concatenate...\", command);\n",
    "saveAs(\"Tiff\", output + \"concatenate.tif\");\n",
    "run(\"Close\")\n",
    "\"\"\""
   ]
  },
  {
   "cell_type": "markdown",
   "metadata": {},
   "source": [
    "Now, we define a function to process one data folder. This involves either loading the tiff file in, or setting up the required paths to access the data. Then the Fissa experiment is run, and the outputs are saved."
   ]
  },
  {
   "cell_type": "code",
   "execution_count": null,
   "metadata": {},
   "outputs": [],
   "source": [
    "%%opts Curve {+axiswise}\n",
    "def process_one(path, ncores_preparation=None, ncores_separation=None, \n",
    "                nRegions=4, expansion=0.3, alpha=0.2, ncells=5,\n",
    "                redo_prep=True, redo_sep=True, load_tiff_manually=False):\n",
    "    '''\n",
    "    Run the Suite2P analysis on one folder of data\n",
    "    Args:\n",
    "        - path: The root path, or the path of the litter folder that contains subfolders of each animal\n",
    "        - ncores_prep/sep: Number of cores to use for the prep/sep steps of the analysis\n",
    "            - Default -> None, which uses all available cores\n",
    "        - regions: Number of subregions FISSA will use for the neuropil region (default=4)\n",
    "        - expansion: Normally the area of each subregion is set the same as the central ROI; default is 1 in FISSA; (default=0.3)\n",
    "        - alpha: The degree of signal sparsity; default is 0.1 in FISSA; (default=0.2)\n",
    "        - ncells: Number of cell ROIs we want to use with FISSA\n",
    "        - redo_prep/sep: Whether to redo the prep/sep steps of the analysis or load previous output (default=True/True)\n",
    "    '''\n",
    "    if not os.path.exists(path + '/concatenate'):\n",
    "        os.mkdir(path + '/concatenate')\n",
    "    curr_folder = path.split('\\\\')[-1]\n",
    "    print(f'Running analysis on {curr_folder}')\n",
    "    print('Merging .tif files')\n",
    "    args = {'input': path + '/suite2p/plane0/reg_tif/'}\n",
    "    ij.py.run_macro(openfiles, args)\n",
    "    ij.py.run_macro(concat_and_save, args)\n",
    "    stat = np.load(path + '/suite2p/plane0/stat.npy', allow_pickle=True) # cell stats\n",
    "    ops = np.load(path + '/suite2p/plane0/ops.npy', allow_pickle=True).item() # options\n",
    "    iscell = np.load(path + '/suite2p/plane0/iscell.npy', allow_pickle=True)[:, 0] # taking the first column.\n",
    "    Lx = ops['Lx']\n",
    "    Ly = ops['Ly']\n",
    "    ncells = len(stat)\n",
    "    cell_ids = np.arange(0, ncells) # this gives each cell a number. Edna: the ID start from 0 and so on.\n",
    "    cell_ids = cell_ids[iscell == 1] # only take the ones that are actually cells.\n",
    "    num_rois = len(cell_ids)\n",
    "\n",
    "    # Get the information of Image size and correct ROI ID\n",
    "    # np.zeros generate numpy array\n",
    "    ROIS = [np.zeros((Ly, Lx), dtype=bool) for n in range(num_rois)]\n",
    "\n",
    "    # Generate ROI boolean areas\n",
    "    for i, n in enumerate(cell_ids): # with enumerate i is the position in cell_ids, and n is the actual cell number\n",
    "        ypix = stat[n]['ypix'][~stat[n]['overlap']]\n",
    "        xpix = stat[n]['xpix'][~stat[n]['overlap']]\n",
    "        ROIS[i][ypix,xpix] = 1\n",
    "    \n",
    "    # Set input/output paths for data\n",
    "    output_folder = path + '/FISSA_Suite2P'\n",
    "    tiff_folder = path + '/concatenate'\n",
    "    \n",
    "    # Use Image to open tiff if necessary\n",
    "    if load_tiff_manually:\n",
    "        print('Loading Tiff Manually')\n",
    "        dataset = Image.open(os.path.join(path, 'concatenate.tif'))\n",
    "\n",
    "        h,w = np.shape(dataset)\n",
    "        tiffarray = np.zeros((dataset.n_frames,h,w), dtype=np.uint16)\n",
    "        \n",
    "        print(f'\\n Reading {path}/concatenate/concatenate.tif into memory')\n",
    "        for i in tqdm.tqdm(list(range(dataset.n_frames)), position=0, leave=True):\n",
    "            dataset.seek(i)\n",
    "            tiffarray[i,:,:] = np.array(dataset, dtype=np.uint16)\n",
    "\n",
    "        dataset.close()\n",
    "        \n",
    "        # Create FISSA experiment with loaded array\n",
    "        exp = fissa.Experiment([tiffarray],[ROIS[:ncells]], output_folder, \n",
    "                               nRegions=nRegions, expansion=expansion, alpha=alpha,\n",
    "                               ncores_preparation=ncores_preparation,\n",
    "                               ncores_separation=ncores_separation)\n",
    "    else:\n",
    "        # Create FISSA experiment using the path to tiff files\n",
    "        exp = fissa.Experiment(tiff_folder,[ROIS[:ncells]], output_folder, \n",
    "                               nRegions=nRegions, expansion=expansion, alpha=alpha,\n",
    "                               ncores_preparation=ncores_preparation,\n",
    "                               ncores_separation=ncores_separation)\n",
    "    \n",
    "    # Run the seperation\n",
    "    exp.separate(redo_prep=redo_prep, redo_sep=redo_sep)\n",
    "    \n",
    "    # Save the data\n",
    "    exp.save_to_matlab()\n",
    "    \n",
    "    # Delete concatenated .tif files and .ome files\n",
    "    patterns = [\"*ntitled.tif\", \"*oncatenate.tif\", \"*.ome*\"]\n",
    "    for pattern in patterns:\n",
    "        pathname = path + \"/**/\" + pattern\n",
    "        files = glob.glob(pathname, recursive=True)\n",
    "        if not files:\n",
    "#             print(f'\\n Did not find a file matching {pattern} for {directory} \\n')\n",
    "            continue\n",
    "        else:\n",
    "            for file in files:\n",
    "                print(f'Deleting {file}')\n",
    "                os.remove(file)\n",
    "    \n",
    "    os.rmdir(path + '/concatenate')"
   ]
  },
  {
   "cell_type": "markdown",
   "metadata": {},
   "source": [
    "Now we must loop through the folders within the path and run the process_one function on each subfolder of animal data"
   ]
  },
  {
   "cell_type": "code",
   "execution_count": null,
   "metadata": {},
   "outputs": [],
   "source": [
    "# Get a list of files (and folders) in the path\n",
    "files_in_path = os.listdir(path)\n",
    "\n",
    "# Now select only the actual folders within our path\n",
    "subdirectories = [file for file in files_in_path if os.path.isdir(os.path.join(path, file))]\n",
    "\n",
    "# Compile a regular expression rule that searches for the format 'P##'\n",
    "r = re.compile('P([0-9])\\w+_')\n",
    "\n",
    "# Now we select the subdirectories we are interested in if they match the P## criteria\n",
    "subdirectories_of_interest = [subdirectory for subdirectory in subdirectories if r.match(subdirectory) is not None]\n",
    "\n",
    "# Run the loop --- tqdm just makes the progress bar\n",
    "for folder in tqdm.tqdm(subdirectories_of_interest, position=0, leave=True):\n",
    "    # The r'{}'.format(path) line just makes sure that the path is an 'r' string\n",
    "    process_one(r'{}'.format(os.path.join(path, folder)))\n",
    "    print('\\n') # Print a blank line to separate outputs"
   ]
  },
  {
   "cell_type": "code",
   "execution_count": null,
   "metadata": {},
   "outputs": [],
   "source": []
  }
 ],
 "metadata": {
  "kernelspec": {
   "display_name": "Python 3",
   "language": "python",
   "name": "python3"
  },
  "language_info": {
   "codemirror_mode": {
    "name": "ipython",
    "version": 3
   },
   "file_extension": ".py",
   "mimetype": "text/x-python",
   "name": "python",
   "nbconvert_exporter": "python",
   "pygments_lexer": "ipython3",
   "version": "3.8.3"
  }
 },
 "nbformat": 4,
 "nbformat_minor": 4
}
